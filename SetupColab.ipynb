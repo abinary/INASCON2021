{
 "cells": [
  {
   "cell_type": "code",
   "execution_count": null,
   "id": "bde01a68",
   "metadata": {},
   "outputs": [],
   "source": [
    "import os\n",
    "from google.colab import drive\n",
    "\n",
    "# Connect to Google Drive\n",
    "drive.mount('/content/gdrive')\n",
    "\n",
    "# Go to the root drive folder\n",
    "os.chdir('/content/gdrive/MyDrive')\n",
    "\n",
    "# Download the workshop repository\n",
    "!git clone https://github.com/abinary/INASCON2021.git\n",
    "\n",
    "os.chdir('INASCON2021')\n",
    "#!git pull\n",
    "!git fetch --all\n",
    "\n",
    "# If you want to get the updated SmarticleSimNotebook.ipynb and override your copy\n",
    "# (change your copy's file name to keep it)\n",
    "!git reset --hard origin/main"
   ]
  }
 ],
 "metadata": {
  "kernelspec": {
   "display_name": "Python 3",
   "language": "python",
   "name": "python3"
  },
  "language_info": {
   "codemirror_mode": {
    "name": "ipython",
    "version": 3
   },
   "file_extension": ".py",
   "mimetype": "text/x-python",
   "name": "python",
   "nbconvert_exporter": "python",
   "pygments_lexer": "ipython3",
   "version": "3.8.8"
  }
 },
 "nbformat": 4,
 "nbformat_minor": 5
}