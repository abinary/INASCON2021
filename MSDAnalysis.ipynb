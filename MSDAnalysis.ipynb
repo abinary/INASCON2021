{
 "cells": [
  {
   "cell_type": "code",
   "execution_count": null,
   "id": "fd5fe8d1",
   "metadata": {},
   "outputs": [],
   "source": [
    "import os\n",
    "from google.colab import drive\n",
    "\n",
    "# Connect to Google Drive\n",
    "drive.mount('/content/gdrive')\n",
    "\n",
    "# Go to the root drive folder\n",
    "os.chdir('/content/gdrive/MyDrive/INASCON2021')\n"
   ]
  },
  {
   "cell_type": "code",
   "execution_count": 6,
   "id": "c9e83759",
   "metadata": {},
   "outputs": [],
   "source": [
    "# import some stuff\n",
    "\n",
    "import math\n",
    "from IPython.display import Image\n",
    "import numpy as np\n",
    "import matplotlib.pyplot as plt\n"
   ]
  },
  {
   "cell_type": "code",
   "execution_count": 7,
   "id": "002a5553",
   "metadata": {},
   "outputs": [],
   "source": [
    "# A function that calculates Mean-Square-Displacement for a time series\n",
    "# It returns 4 outputs:\n",
    "# (msd, lag, std, n) = FastMSD(x)\n",
    "#\n",
    "# \"msd\" is the calculated result, for lags \"lag\" (multiply by the sampling interval to get the lag time)\n",
    "# \"std\" is the array of standard deviations\n",
    "# \"n\" has the number of samples per lag\n",
    "def FastMSD(v):\n",
    "    # Calculate differences\n",
    "    v = np.diff(v, 1, 0)\n",
    "\n",
    "    max_power2 = int(math.floor(math.log2(v.shape[0])))\n",
    "\n",
    "    lag = np.array(list(math.pow(2, p) for p in range(max_power2))) # time lag\n",
    "    msd = np.zeros(max_power2) # MSD\n",
    "    n = np.zeros(max_power2) # number of samples\n",
    "    std = np.zeros(max_power2) # standard deviation\n",
    "\n",
    "    for p in range(max_power2):\n",
    "        x = np.square(v) # Square\n",
    "        x = np.sum(x, 1) # Sum over vector components\n",
    "        msd[p] = np.mean(x) # Mean-square-displacement\n",
    "        std[p] = np.std(x) # Calculate the spread of the result\n",
    "        n[p] = x.shape[0] # Keep number of samples\n",
    "\n",
    "        s = v.shape\n",
    "        v = [v[2*i, :] + v[2*i + 1, :] for i in range(s[0]//2)]\n",
    "        v = np.array(v) # convert to NumPy array for convenience\n",
    "\n",
    "    return (msd, lag, std, n)\n"
   ]
  },
  {
   "cell_type": "code",
   "execution_count": 10,
   "id": "859881ae",
   "metadata": {},
   "outputs": [],
   "source": [
    "# A simple code for a bounded random walk, as an example, instead of loading data\n",
    "\n",
    "import random\n",
    "\n",
    "dt = 1 # sampling interval\n",
    "L = 100\n",
    "results = []\n",
    "\n",
    "for L in (10, 20, 50, 100):\n",
    "    pos = np.array((0.0, 0.0));\n",
    "    xy = []\n",
    "\n",
    "    for i in range(100000):\n",
    "        step = np.array((random.gauss(0, 1), random.gauss(0, 1)))\n",
    "        updated_pos = pos + step    \n",
    "\n",
    "        if (updated_pos[0] >= 0 and updated_pos[1] >= 0 and updated_pos[0] < L and updated_pos[1] < L):\n",
    "            pos = updated_pos\n",
    "            xy.append(pos)\n",
    "\n",
    "    results.append(FastMSD(xy))\n"
   ]
  },
  {
   "cell_type": "code",
   "execution_count": 6,
   "id": "d6891317",
   "metadata": {},
   "outputs": [],
   "source": [
    "# Load data and calculate MSDs\n",
    "\n",
    "data = np.loadtxt('data/HD_N100_L100_every1.txt', delimiter=' ')\n",
    "dt = 1 # sampling interval\n",
    "\n",
    "# The data is shapes like [frames]x[N * 2]\n",
    "# For XY (2) coordinates of N bots over time\n",
    "# Reshape to 3d array [frames]x[N]x[2]\n",
    "s = data.shape\n",
    "N = s[1] // 2\n",
    "data = data.reshape((s[0], N, 2))\n",
    "\n",
    "# Calculate MSDs independently for all bots\n",
    "results = list([FastMSD(data[:, s, :]) for s in range(N)])\n"
   ]
  },
  {
   "cell_type": "code",
   "execution_count": 9,
   "id": "93291ca2",
   "metadata": {},
   "outputs": [
    {
     "ename": "NameError",
     "evalue": "name 'dt' is not defined",
     "output_type": "error",
     "traceback": [
      "\u001b[1;31m---------------------------------------------------------------------------\u001b[0m",
      "\u001b[1;31mNameError\u001b[0m                                 Traceback (most recent call last)",
      "\u001b[1;32m<ipython-input-9-db909e9757ea>\u001b[0m in \u001b[0;36m<module>\u001b[1;34m\u001b[0m\n\u001b[0;32m      5\u001b[0m \u001b[1;32mfor\u001b[0m \u001b[0ms\u001b[0m \u001b[1;32min\u001b[0m \u001b[0mrange\u001b[0m\u001b[1;33m(\u001b[0m\u001b[0mlen\u001b[0m\u001b[1;33m(\u001b[0m\u001b[0mresults\u001b[0m\u001b[1;33m)\u001b[0m\u001b[1;33m)\u001b[0m\u001b[1;33m:\u001b[0m\u001b[1;33m\u001b[0m\u001b[1;33m\u001b[0m\u001b[0m\n\u001b[0;32m      6\u001b[0m     \u001b[1;33m(\u001b[0m\u001b[0mmsd\u001b[0m\u001b[1;33m,\u001b[0m \u001b[0mlag\u001b[0m\u001b[1;33m,\u001b[0m \u001b[0mstd\u001b[0m\u001b[1;33m,\u001b[0m \u001b[0mn\u001b[0m\u001b[1;33m)\u001b[0m \u001b[1;33m=\u001b[0m \u001b[0mresults\u001b[0m\u001b[1;33m[\u001b[0m\u001b[0ms\u001b[0m\u001b[1;33m]\u001b[0m\u001b[1;33m\u001b[0m\u001b[1;33m\u001b[0m\u001b[0m\n\u001b[1;32m----> 7\u001b[1;33m     \u001b[0mplt\u001b[0m\u001b[1;33m.\u001b[0m\u001b[0mloglog\u001b[0m\u001b[1;33m(\u001b[0m\u001b[0mlag\u001b[0m \u001b[1;33m*\u001b[0m \u001b[0mdt\u001b[0m\u001b[1;33m,\u001b[0m \u001b[0mmsd\u001b[0m\u001b[1;33m)\u001b[0m\u001b[1;33m\u001b[0m\u001b[1;33m\u001b[0m\u001b[0m\n\u001b[0m\u001b[0;32m      8\u001b[0m \u001b[1;33m\u001b[0m\u001b[0m\n\u001b[0;32m      9\u001b[0m \u001b[0max\u001b[0m\u001b[1;33m.\u001b[0m\u001b[0mset_ylabel\u001b[0m\u001b[1;33m(\u001b[0m\u001b[1;34m'Mean-square-displacement (m^2)'\u001b[0m\u001b[1;33m)\u001b[0m\u001b[1;33m\u001b[0m\u001b[1;33m\u001b[0m\u001b[0m\n",
      "\u001b[1;31mNameError\u001b[0m: name 'dt' is not defined"
     ]
    },
    {
     "data": {
      "image/png": "[encoded data removed]",
      "text/plain": [
       "<Figure size 432x288 with 1 Axes>"
      ]
     },
     "metadata": {
      "needs_background": "light"
     },
     "output_type": "display_data"
    }
   ],
   "source": [
    "# Display calculated MSDs\n",
    "\n",
    "#fig = plt.figure()\n",
    "fig, ax = plt.subplots()\n",
    "for s in range(len(results)):\n",
    "    (msd, lag, std, n) = results[s]\n",
    "    plt.loglog(lag * dt, msd)\n",
    "\n",
    "ax.set_ylabel('Mean-square-displacement (m^2)')\n",
    "ax.set_xlabel('Time lag (sec)')\n",
    "plt.show()\n",
    "\n",
    "\n",
    "#fig = plt.figure()\n",
    "fig, ax = plt.subplots()\n",
    "\n",
    "msd_arrays = [results[s][0] for s in range(len(results))]\n",
    "msd = np.mean(msd_arrays, 0) # Mean, over first dimension (bots)\n",
    "lag = results[0][1] * dt # They all have the same list of lags, just pick one\n",
    "\n",
    "plt.loglog(lag, msd, label='Mean of MSDs')\n",
    "plt.loglog(lag, msd[0] * np.power(lag / lag[0], 1), dashes=[6, 3], label='Diffusive (t)') # for reference\n",
    "plt.loglog(lag, msd[0] * np.power(lag / lag[0], 2), dashes=[6, 3], label='Ballistic (t^2)') # for reference\n",
    "\n",
    "ax.set_ylabel('Mean-square-displacement (m^2)')\n",
    "ax.set_xlabel('Time lag (sec)')\n",
    "\n",
    "ax.legend()\n",
    "plt.show()\n"
   ]
  }
 ],
 "metadata": {
  "kernelspec": {
   "display_name": "Python 3",
   "language": "python",
   "name": "python3"
  },
  "language_info": {
   "codemirror_mode": {
    "name": "ipython",
    "version": 3
   },
   "file_extension": ".py",
   "mimetype": "text/x-python",
   "name": "python",
   "nbconvert_exporter": "python",
   "pygments_lexer": "ipython3",
   "version": "3.8.8"
  }
 },
 "nbformat": 4,
 "nbformat_minor": 5
}
