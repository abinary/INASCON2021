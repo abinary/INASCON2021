{
 "cells": [
  {
   "cell_type": "code",
   "execution_count": null,
   "id": "fd5fe8d1",
   "metadata": {},
   "outputs": [],
   "source": [
    "import os\n",
    "from google.colab import drive\n",
    "\n",
    "# Connect to Google Drive\n",
    "drive.mount('/content/gdrive')\n",
    "\n",
    "# Go to the root drive folder\n",
    "os.chdir('/content/gdrive/MyDrive/INASCON2021')\n"
   ]
  },
  {
   "cell_type": "code",
   "execution_count": 1,
   "id": "c9e83759",
   "metadata": {},
   "outputs": [],
   "source": [
    "# import some stuff\n",
    "\n",
    "import math\n",
    "from IPython.display import Image\n",
    "import numpy as np\n",
    "import matplotlib.pyplot as plt\n",
    "import numpy as np\n",
    "import cv2 as cv\n",
    "#from tqdm import tqdm\n",
    "from tqdm.notebook import tqdm"
   ]
  },
  {
   "cell_type": "code",
   "execution_count": 7,
   "id": "002a5553",
   "metadata": {},
   "outputs": [],
   "source": [
    "# This function computes a scattering profile from an image\n",
    "# assuming on average the orientation doesn't matter.\n",
    "# Typically, we would do an orientation-average on a 2d FFT\n",
    "# result. For a package that does that, look at PyFAI.\n",
    "# Here we assume the orientation doesn't matter, so we \"cheat\"\n",
    "# and average the Fourier spectrum on the vertical and\n",
    "# horizontal directions\n",
    "def SimplifiedScatteringProfile(image):\n",
    "    # Perform one-dimensional fft over the first axis\n",
    "    f = np.fft.fft(image, axis=0)\n",
    "\n",
    "    # Calculate the magnitude and phase spectra\n",
    "    magnitude_spectrum0 = np.abs(f)\n",
    "    magnitude_spectrum0 = np.sum(magnitude_spectrum0, 1)\n",
    "    magnitude_spectrum0 = magnitude_spectrum0[0:magnitude_spectrum0.shape[0]//2]\n",
    "\n",
    "    #return magnitude_spectrum0\n",
    "\n",
    "    # Perform one-dimensional fft over the second axis\n",
    "    f = np.fft.fft(image, axis=1)\n",
    "\n",
    "    # Calculate the magnitude and phase spectra\n",
    "    magnitude_spectrum1 = np.abs(f)\n",
    "    magnitude_spectrum1 = np.sum(magnitude_spectrum1, 0)\n",
    "    magnitude_spectrum1 = magnitude_spectrum1[0:magnitude_spectrum1.shape[0]//2]\n",
    "\n",
    "    return 0.5 * (magnitude_spectrum0 + magnitude_spectrum1)\n"
   ]
  },
  {
   "cell_type": "code",
   "execution_count": 112,
   "id": "859881ae",
   "metadata": {
    "pycharm": {
     "name": "#%%\n"
    }
   },
   "outputs": [],
   "source": [
    "def ComputeVideoScatteringProfile(filepath, L):\n",
    "    scattering_profile_list = []\n",
    "    frame_bw = []\n",
    "\n",
    "    vid = cv.VideoCapture(filepath)\n",
    "\n",
    "    number_of_frames = vid.get(cv.CAP_PROP_FRAME_COUNT)\n",
    "    width = vid.get(cv.CAP_PROP_FRAME_WIDTH)\n",
    "\n",
    "    progressbar = tqdm(total=number_of_frames)\n",
    "    count = 0\n",
    "\n",
    "    while vid.isOpened():\n",
    "        ret, frame = vid.read()  # read a frame\n",
    "\n",
    "        # No frame? end the loop\n",
    "        if not ret:\n",
    "            break\n",
    "\n",
    "        count += 1\n",
    "\n",
    "        # convert frame to grayscale and then to 0/1\n",
    "        frame = cv.cvtColor(frame, cv.COLOR_BGR2GRAY)\n",
    "        frame_bw = np.greater(frame, 0)  # > 0\n",
    "\n",
    "        # Calculate scattering profile\n",
    "        scattering_profile = SimplifiedScatteringProfile(frame)\n",
    "        scattering_profile_list.append(scattering_profile)\n",
    "        progressbar.update()\n",
    "\n",
    "        # Uncomment if you want a quicker (and less accurate) result\n",
    "        #if count == 100:\n",
    "            #break\n",
    "\n",
    "    vid.release()\n",
    "    progressbar.close()\n",
    "\n",
    "    # Average over scattering profiles of all frames\n",
    "    scattering_profile = np.mean(scattering_profile_list, axis=0)\n",
    "\n",
    "    # Generate the transfer-momentum (frequency) scale\n",
    "    freqs = np.fft.fftfreq(len(scattering_profile) * 2, L / width)\n",
    "    freqs = freqs[0:len(freqs) // 2]\n",
    "    q = 2 * math.pi * freqs\n",
    "\n",
    "    return scattering_profile, q, frame_bw"
   ]
  },
  {
   "cell_type": "code",
   "execution_count": null,
   "outputs": [],
   "source": [
    "(scattering_profile, q, frame) = ComputeVideoScatteringProfile('scattering_data/bots_flipflop_L1.1_N10_every10.mp4', 1.1)\n",
    "\n",
    "# Plot\n",
    "fig = plt.figure()\n",
    "plt.imshow(frame, cmap='gray')\n",
    "plt.title('Last Frame'), plt.xticks([]), plt.yticks([])\n",
    "# plt.colorbar()\n",
    "plt.show()\n",
    "\n",
    "\n",
    "fig = plt.figure()\n",
    "plt.loglog(q, scattering_profile)\n",
    "plt.title('Scattering profile')\n",
    "plt.show()\n"
   ],
   "metadata": {
    "collapsed": false,
    "pycharm": {
     "name": "#%%\n"
    }
   }
  }
 ],
 "metadata": {
  "kernelspec": {
   "display_name": "Python 3",
   "language": "python",
   "name": "python3"
  },
  "language_info": {
   "codemirror_mode": {
    "name": "ipython",
    "version": 3
   },
   "file_extension": ".py",
   "mimetype": "text/x-python",
   "name": "python",
   "nbconvert_exporter": "python",
   "pygments_lexer": "ipython3",
   "version": "3.8.8"
  }
 },
 "nbformat": 4,
 "nbformat_minor": 5
}